{
 "cells": [
  {
   "cell_type": "code",
   "execution_count": 1,
   "metadata": {
    "collapsed": true
   },
   "outputs": [],
   "source": [
    "import numpy as np\n",
    "import gensim\n",
    "import pickle\n",
    "from sklearn.cluster import KMeans\n",
    "from sklearn.cluster import MiniBatchKMeans\n",
    "import time"
   ]
  },
  {
   "cell_type": "code",
   "execution_count": 2,
   "metadata": {
    "collapsed": true
   },
   "outputs": [],
   "source": [
    "model = gensim.models.Word2Vec.load_word2vec_format('F:\\\\ParaPhrase\\\\glove.6B\\\\word2vec.6B.100d.txt', binary=False)  # C text format\n"
   ]
  },
  {
   "cell_type": "code",
   "execution_count": 3,
   "metadata": {
    "collapsed": false
   },
   "outputs": [
    {
     "name": "stdout",
     "output_type": "stream",
     "text": [
      "Number of Clusters : 16000\n"
     ]
    }
   ],
   "source": [
    "# Set \"k\" (num_clusters) to be 1/5th of the vocabulary size, or an\n",
    "# average of 5 words per cluster\n",
    "\n",
    "word_vectors = model.syn0\n",
    "num_clusters = int(word_vectors.shape[0] / 25)\n",
    "print(\"Number of Clusters : \"+ str(num_clusters))"
   ]
  },
  {
   "cell_type": "code",
   "execution_count": 4,
   "metadata": {
    "collapsed": false
   },
   "outputs": [
    {
     "data": {
      "text/plain": [
       "[('warm', 0.7432153224945068),\n",
       " ('dry', 0.726459264755249),\n",
       " ('hot', 0.7251606583595276),\n",
       " ('cool', 0.6736099720001221),\n",
       " ('chilly', 0.6576920747756958),\n",
       " ('winter', 0.6541475057601929),\n",
       " ('chill', 0.6410161256790161),\n",
       " ('weather', 0.6374430060386658),\n",
       " ('wet', 0.634242832660675),\n",
       " ('snow', 0.6249481439590454)]"
      ]
     },
     "execution_count": 4,
     "metadata": {},
     "output_type": "execute_result"
    }
   ],
   "source": [
    " model.most_similar(\"cold\")"
   ]
  },
  {
   "cell_type": "markdown",
   "metadata": {},
   "source": [
    "Now, we cluster the words by MiniBatch K- means"
   ]
  },
  {
   "cell_type": "code",
   "execution_count": null,
   "metadata": {
    "collapsed": false
   },
   "outputs": [
    {
     "name": "stderr",
     "output_type": "stream",
     "text": [
      "C:\\Users\\gilopez\\AppData\\Local\\Continuum\\Anaconda3\\envs\\py_3.4\\lib\\site-packages\\sklearn\\cluster\\k_means_.py:1279: DeprecationWarning: This function is deprecated. Please call randint(0, 399999 + 1) instead\n",
      "  0, n_samples - 1, init_size)\n",
      "C:\\Users\\gilopez\\AppData\\Local\\Continuum\\Anaconda3\\envs\\py_3.4\\lib\\site-packages\\sklearn\\cluster\\k_means_.py:1300: RuntimeWarning: init_size=3000 should be larger than k=16000. Setting it to 3*k\n",
      "  init_size=init_size)\n",
      "C:\\Users\\gilopez\\AppData\\Local\\Continuum\\Anaconda3\\envs\\py_3.4\\lib\\site-packages\\sklearn\\cluster\\k_means_.py:630: DeprecationWarning: This function is deprecated. Please call randint(0, 399999 + 1) instead\n",
      "  0, n_samples - 1, init_size)\n"
     ]
    }
   ],
   "source": [
    "start = time.time() # Start time\n",
    "# Initalize a k-means object and use it to extract centroids\n",
    "kmeans_clustering = MiniBatchKMeans( n_clusters = num_clusters,batch_size=1000)\n",
    "idx = kmeans_clustering.fit_predict( word_vectors )\n",
    "\n",
    "# Get the end time and print how long the process took\n",
    "end = time.time()\n",
    "elapsed = end - start\n",
    "print (\"Time taken for K Means clustering: \", elapsed, \"seconds.\")"
   ]
  },
  {
   "cell_type": "code",
   "execution_count": null,
   "metadata": {
    "collapsed": true
   },
   "outputs": [],
   "source": [
    "# Create a Word / Index dictionary, mapping each vocabulary word to\n",
    "# a cluster number                                                                                            \n",
    "word_centroid_map = dict(zip( model.index2word, idx ))"
   ]
  },
  {
   "cell_type": "markdown",
   "metadata": {},
   "source": [
    "Save the word along with the cluster to be used later"
   ]
  },
  {
   "cell_type": "code",
   "execution_count": null,
   "metadata": {
    "collapsed": true
   },
   "outputs": [],
   "source": [
    "uniClusters = set(idx)\n",
    "outputFile = open('E:\\CompLing575\\ProcessedData\\swda\\word2vec.6B.100d.num_cluster_16000.cluster.pkl', 'wb')\n",
    "pickle.dump(word_centroid_map, outputFile)\n",
    "outputFile.close()"
   ]
  },
  {
   "cell_type": "code",
   "execution_count": null,
   "metadata": {
    "collapsed": true
   },
   "outputs": [],
   "source": []
  }
 ],
 "metadata": {
  "kernelspec": {
   "display_name": "Python 3",
   "language": "python",
   "name": "python3"
  },
  "language_info": {
   "codemirror_mode": {
    "name": "ipython",
    "version": 3
   },
   "file_extension": ".py",
   "mimetype": "text/x-python",
   "name": "python",
   "nbconvert_exporter": "python",
   "pygments_lexer": "ipython3",
   "version": "3.4.4"
  }
 },
 "nbformat": 4,
 "nbformat_minor": 0
}
