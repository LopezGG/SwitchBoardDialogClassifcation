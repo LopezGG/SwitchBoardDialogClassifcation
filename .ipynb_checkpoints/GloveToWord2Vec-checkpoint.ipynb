{
 "cells": [
  {
   "cell_type": "markdown",
   "metadata": {},
   "source": [
    "This is based on the code here https://github.com/manasRK/glove-gensim/blob/master/glove-gensim.py"
   ]
  },
  {
   "cell_type": "code",
   "execution_count": null,
   "metadata": {
    "collapsed": true
   },
   "outputs": [],
   "source": [
    "#!/usr/bin/env python \n",
    "# -*- coding: utf-8 -*- \n",
    "# \n",
    "# Copyright (C) 2016 Manas Ranjan Kar <manasrkar91@gmail.com> \n",
    "# Licensed under the GNU LGPL v2.1 - http://www.gnu.org/licenses/lgpl.html \n",
    "\n",
    " \n",
    "\"\"\" \n",
    "CLI USAGE: python glove2word2vec.py <GloVe vector file> <Output model file> \n",
    " \n",
    "Convert GloVe vectors into word2vec C format; \n",
    "  \n",
    "model = gensim.models.Word2Vec.load_word2vec_format('/tmp/vectors.txt', binary=False)  # C text format \n",
    " \n",
    "word2vec embeddings start with a line with the number of lines (tokens?) and the number of dimensions of the file. This allows gensim to allocate memory \n",
    "accordingly for querying the model. Larger dimensions mean larger memory is held captive. Accordingly, this line has to be inserted into the GloVe \n",
    "embeddings file. \n",
    "\"\"\"  \n",
    " \n",
    "import re \n",
    "import sys \n",
    "import gensim \n",
    "import logging \n",
    "import smart_open \n",
    "\n",
    "\n",
    "logger = logging.getLogger() \n",
    "fhandler = logging.FileHandler(filename='mylog.log', mode='a')\n",
    "formatter = logging.Formatter('%(asctime)s : %(threadName)s : %(levelname)s : %(message)s')\n",
    "fhandler.setFormatter(formatter)\n",
    "logger.addHandler(fhandler)\n",
    "logger.setLevel(logging.DEBUG)\n",
    " \n",
    "def glove2word2vec(glove_vector_file, output_model_file): \n",
    "    \"\"\"Convert GloVe vectors into word2vec C format\"\"\" \n",
    " \n",
    "    def get_info(glove_file_name): \n",
    "        \"\"\"Return the number of vectors and dimensions in a file in GloVe format.\"\"\" \n",
    "        with smart_open.smart_open(glove_file_name,encoding=\"latin-1\") as f: \n",
    "            num_lines = sum(1 for line in f) \n",
    "        with smart_open.smart_open(glove_file_name,encoding=\"latin-1\") as f: \n",
    "            num_dims = len(f.readline().split()) - 1 \n",
    "        return num_lines, num_dims \n",
    "    \n",
    "    def prepend_line(infile, outfile, line): \n",
    "        \"\"\" \n",
    "        Function to prepend lines using smart_open \n",
    "        \"\"\" \n",
    "        with open(infile,'r', encoding=\"latin-1\") as old: \n",
    "            with open(outfile,'w', encoding=\"latin-1\")as new: \n",
    "                new.write(str(line.strip()) + \"\\n\") \n",
    "                for line in old: \n",
    "                    new.write(line) \n",
    "        return outfile \n",
    "    num_lines, dims = get_info(glove_vector_file) \n",
    "    logger.info('%d lines with %s dimensions' % (num_lines, dims)) \n",
    "    gensim_first_line = \"{} {}\".format(num_lines, dims) \n",
    "    model_file = prepend_line(glove_vector_file, output_model_file, gensim_first_line) \n",
    "    logger.info('Model %s successfully created !!'%output_model_file) \n",
    "    # Demo: Loads the newly created glove_model.txt into gensim API. \n",
    "    model = gensim.models.Word2Vec.load_word2vec_format(model_file, binary=False) #GloVe Model \n",
    "    logger.info('Most similar to king are: %s' % model.most_similar(positive=['king'], topn=10)) \n",
    "    logger.info('Similarity score between woman and man is %s ' % model.similarity('woman', 'man')) \n",
    "    logger.info(\"Finished running %s\", program) \n",
    "\n",
    "    return model_file \n",
    "glove_vector_file=\"F:\\ParaPhrase\\commonCrawl\\glove.common.crawl.42B.300d.txt\"\n",
    "output_model_file = \"F:\\ParaPhrase\\commonCrawl\\word2vec.common.crawl.42B.300d.txt\"\n",
    "glove2word2vec(glove_vector_file, output_model_file)  "
   ]
  }
 ],
 "metadata": {
  "kernelspec": {
   "display_name": "Python 3",
   "language": "python",
   "name": "python3"
  },
  "language_info": {
   "codemirror_mode": {
    "name": "ipython",
    "version": 3
   },
   "file_extension": ".py",
   "mimetype": "text/x-python",
   "name": "python",
   "nbconvert_exporter": "python",
   "pygments_lexer": "ipython3",
   "version": "3.4.4"
  }
 },
 "nbformat": 4,
 "nbformat_minor": 0
}
