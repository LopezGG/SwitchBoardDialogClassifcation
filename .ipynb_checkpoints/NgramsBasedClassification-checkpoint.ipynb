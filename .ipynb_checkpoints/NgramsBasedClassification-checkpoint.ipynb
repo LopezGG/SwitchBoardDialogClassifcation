{
 "cells": [
  {
   "cell_type": "code",
   "execution_count": 24,
   "metadata": {
    "collapsed": true
   },
   "outputs": [],
   "source": [
    "import pickle\n",
    "import numpy as np"
   ]
  },
  {
   "cell_type": "markdown",
   "metadata": {},
   "source": [
    "Load test ,  training data and Vocabulary from previous script i.e. ProcessData.py"
   ]
  },
  {
   "cell_type": "code",
   "execution_count": 11,
   "metadata": {
    "collapsed": false
   },
   "outputs": [],
   "source": [
    "infile = open('E:\\CompLing575\\ProcessedData\\swda\\TrainingData.pkl', 'rb')\n",
    "training = pickle.load(infile)\n",
    "infile.close()\n",
    "infile = open('E:\\CompLing575\\ProcessedData\\swda\\TestData.pkl', 'rb')\n",
    "test = pickle.load(infile)\n",
    "infile.close()\n",
    "infile = open('E:\\CompLing575\\ProcessedData\\swda\\Vocab.pkl', 'rb')\n",
    "Vocab = pickle.load(infile)\n",
    "infile.close()\n",
    "infile = open('E:\\CompLing575\\ProcessedData\\swda\\Vocab_pos.pkl', 'rb')\n",
    "Vocab_pos = pickle.load(infile)\n",
    "infile.close()"
   ]
  },
  {
   "cell_type": "markdown",
   "metadata": {},
   "source": [
    "# Ngrams Generation (i.e Feature Generation)\n",
    "- Here the dataset is split into Two\n",
    "    - We have a data set with Ngrams alone\n",
    "    - Second data set includes the pos Tags of words along with the ngrams\n"
   ]
  },
  {
   "cell_type": "code",
   "execution_count": 14,
   "metadata": {
    "collapsed": false
   },
   "outputs": [],
   "source": [
    "#this creates features for the data(here we look at only words)\n",
    "TrainFeatures =[]\n",
    "for utt in training:\n",
    "    tag = utt[0]\n",
    "    unigrams = utt[1][0]\n",
    "    bigrams = utt[1][1]\n",
    "    trigrams = utt [1][2]\n",
    "    Features =[]\n",
    "    rareFlag = False\n",
    "    for uni in unigrams:\n",
    "        if(Vocab.get(uni, 0) >= 2):\n",
    "            Features.append(uni)\n",
    "        else:\n",
    "            rareFlag = True\n",
    "    for bi in bigrams:\n",
    "        if(Vocab.get(bi, 0) >= 2):\n",
    "            Features.append(bi)\n",
    "    for tri in trigrams:\n",
    "        if(Vocab.get(tri, 0) >= 2):\n",
    "            Features.append(tri)\n",
    "    if (rareFlag):\n",
    "        Features.append(\"rareWord\")\n",
    "    #For Pos\n",
    "    unigrams_pos = utt[1][3]\n",
    "    bigrams_pos = utt[1][4]\n",
    "    trigrams_pos = utt [1][5]\n",
    "    Features_pos =[]\n",
    "    rareFlag_pos = False\n",
    "    for uni in unigrams_pos:\n",
    "        if(Vocab_pos.get(uni, 0) >= 2):\n",
    "            Features_pos.append(uni)\n",
    "        else:\n",
    "            rareFlag_pos = True\n",
    "    for bi in bigrams_pos:\n",
    "        if(Vocab_pos.get(bi, 0) >= 2):\n",
    "            Features_pos.append(bi)\n",
    "    for tri in trigrams_pos:\n",
    "        if(Vocab_pos.get(tri, 0) >= 2):\n",
    "            Features_pos.append(tri)\n",
    "    if (rareFlag_pos):\n",
    "        Features_pos.append(\"rareWord\")\n",
    "    data = [tag,Features,Features_pos]\n",
    "    TrainFeatures.append(data)"
   ]
  },
  {
   "cell_type": "code",
   "execution_count": 15,
   "metadata": {
    "collapsed": false
   },
   "outputs": [],
   "source": [
    "TestFeatures =[]\n",
    "for utt in test:\n",
    "    tag = utt[0]\n",
    "    unigrams = utt[1][0]\n",
    "    bigrams = utt[1][1]\n",
    "    trigrams = utt [1][2]\n",
    "    Features =[]\n",
    "    rareFlag = False\n",
    "    for uni in unigrams:\n",
    "        if(Vocab.get(uni, 0) >= 2):\n",
    "            Features.append(uni)\n",
    "        else:\n",
    "            rareFlag = True\n",
    "    for bi in bigrams:\n",
    "        if(Vocab.get(bi, 0) >= 2):\n",
    "            Features.append(bi)\n",
    "    for tri in trigrams:\n",
    "        if(Vocab.get(tri, 0) >= 2):\n",
    "            Features.append(tri)\n",
    "    if (rareFlag):\n",
    "        Features.append(\"rareWord\")\n",
    "    #For Pos\n",
    "    unigrams_pos = utt[1][3]\n",
    "    bigrams_pos = utt[1][4]\n",
    "    trigrams_pos = utt [1][5]\n",
    "    Features_pos =[]\n",
    "    rareFlag_pos = False\n",
    "    for uni in unigrams_pos:\n",
    "        if(Vocab_pos.get(uni, 0) >= 2):\n",
    "            Features_pos.append(uni)\n",
    "        else:\n",
    "            rareFlag_pos = True\n",
    "    for bi in bigrams_pos:\n",
    "        if(Vocab_pos.get(bi, 0) >= 2):\n",
    "            Features_pos.append(bi)\n",
    "    for tri in trigrams_pos:\n",
    "        if(Vocab_pos.get(tri, 0) >= 2):\n",
    "            Features_pos.append(tri)\n",
    "    if (rareFlag_pos):\n",
    "        Features_pos.append(\"rareWord\")\n",
    "    data = [tag,Features,Features_pos]\n",
    "    TestFeatures.append(data)\n",
    "        "
   ]
  },
  {
   "cell_type": "markdown",
   "metadata": {},
   "source": [
    "Next we create labels and call on all the scikit learn classifiers"
   ]
  },
  {
   "cell_type": "code",
   "execution_count": 16,
   "metadata": {
    "collapsed": true
   },
   "outputs": [],
   "source": [
    "train_labels = list(x[0] for x in TrainFeatures)\n",
    "train_data  = list(' '.join(x[1]) for x in TrainFeatures)\n",
    "train_data_pos  = list(' '.join(x[2]) for x in TrainFeatures)\n",
    "test_labels = list(x[0] for x in TestFeatures)\n",
    "test_data  = list(' '.join(x[1]) for x in TestFeatures)\n",
    "test_data_pos  = list(' '.join(x[2]) for x in TestFeatures)"
   ]
  },
  {
   "cell_type": "code",
   "execution_count": 17,
   "metadata": {
    "collapsed": true
   },
   "outputs": [],
   "source": [
    "from sklearn.feature_extraction.text import CountVectorizer\n",
    "from sklearn import metrics\n",
    "from time import time\n",
    "from sklearn.utils.extmath import density\n",
    "from sklearn.linear_model import RidgeClassifier\n",
    "from sklearn.pipeline import Pipeline\n",
    "from sklearn.svm import LinearSVC\n",
    "from sklearn.linear_model import SGDClassifier\n",
    "from sklearn.linear_model import Perceptron\n",
    "from sklearn.linear_model import PassiveAggressiveClassifier\n",
    "from sklearn.naive_bayes import BernoulliNB, MultinomialNB\n",
    "from sklearn.neighbors import KNeighborsClassifier\n",
    "from sklearn.neighbors import NearestCentroid\n",
    "from sklearn.ensemble import RandomForestClassifier\n",
    "import matplotlib.pyplot as plt"
   ]
  },
  {
   "cell_type": "code",
   "execution_count": 18,
   "metadata": {
    "collapsed": true
   },
   "outputs": [],
   "source": [
    "vectorizer = CountVectorizer(min_df=1)\n",
    "X_train = vectorizer.fit_transform(train_data)\n",
    "X_test = vectorizer.transform(test_data)\n",
    "X_train_pos = vectorizer.fit_transform(train_data_pos)\n",
    "X_test_pos = vectorizer.transform(test_data_pos)"
   ]
  },
  {
   "cell_type": "code",
   "execution_count": 19,
   "metadata": {
    "collapsed": true
   },
   "outputs": [],
   "source": [
    "# Benchmark classifiers\n",
    "def benchmark(clf,X_train,y_train,X_test,y_test):\n",
    "    print('_' * 80)\n",
    "    print(\"Training: \")\n",
    "    print(clf)\n",
    "    t0 = time()\n",
    "    clf.fit(X_train, y_train)\n",
    "    train_time = time() - t0\n",
    "    print(\"train time: %0.3fs\" % train_time)\n",
    "\n",
    "    t0 = time()\n",
    "    pred = clf.predict(X_test)\n",
    "    test_time = time() - t0\n",
    "    print(\"test time:  %0.3fs\" % test_time)\n",
    "\n",
    "    score = metrics.accuracy_score(y_test, pred)\n",
    "    print(\"accuracy:   %0.3f\" % score)\n",
    "\n",
    "    if hasattr(clf, 'coef_'):\n",
    "        print(\"dimensionality: %d\" % clf.coef_.shape[1])\n",
    "        print(\"density: %f\" % density(clf.coef_))\n",
    "        print()\n",
    "\n",
    "    print(\"confusion matrix:\")\n",
    "    print(metrics.confusion_matrix(y_test, pred))\n",
    "\n",
    "    print()\n",
    "    clf_descr = str(clf).split('(')[0]\n",
    "    return clf_descr, score, train_time, test_time"
   ]
  },
  {
   "cell_type": "code",
   "execution_count": 32,
   "metadata": {
    "collapsed": false
   },
   "outputs": [
    {
     "name": "stdout",
     "output_type": "stream",
     "text": [
      "================================================================================\n",
      "Ridge Classifier\n",
      "________________________________________________________________________________\n",
      "Training: \n",
      "RidgeClassifier(alpha=1.0, class_weight=None, copy_X=True, fit_intercept=True,\n",
      "        max_iter=None, normalize=False, random_state=None, solver='lsqr',\n",
      "        tol=0.01)\n"
     ]
    },
    {
     "name": "stderr",
     "output_type": "stream",
     "text": [
      "C:\\Users\\gilopez\\AppData\\Local\\Continuum\\Anaconda3\\envs\\py_3.4\\lib\\site-packages\\sklearn\\linear_model\\ridge.py:299: UserWarning: In Ridge, only 'sag' solver can currently fit the intercept when X is sparse. Solver has been automatically changed into 'sag'.\n",
      "  warnings.warn(\"In Ridge, only 'sag' solver can currently fit the \"\n"
     ]
    },
    {
     "name": "stdout",
     "output_type": "stream",
     "text": [
      "train time: 6.135s\n",
      "test time:  0.005s\n",
      "accuracy:   0.819\n",
      "dimensionality: 10552\n",
      "density: 1.000000\n",
      "\n",
      "confusion matrix:\n",
      "[[30662  5354]\n",
      " [ 6653 23815]]\n",
      "\n",
      "================================================================================\n",
      "Perceptron\n",
      "________________________________________________________________________________\n",
      "Training: \n",
      "Perceptron(alpha=0.0001, class_weight=None, eta0=1.0, fit_intercept=True,\n",
      "      n_iter=50, n_jobs=1, penalty=None, random_state=0, shuffle=True,\n",
      "      verbose=0, warm_start=False)\n",
      "train time: 2.301s\n",
      "test time:  0.006s\n",
      "accuracy:   0.760\n",
      "dimensionality: 10552\n",
      "density: 0.917551\n",
      "\n",
      "confusion matrix:\n",
      "[[29579  6437]\n",
      " [ 9509 20959]]\n",
      "\n",
      "================================================================================\n",
      "Passive-Aggressive\n",
      "________________________________________________________________________________\n",
      "Training: \n",
      "PassiveAggressiveClassifier(C=1.0, class_weight=None, fit_intercept=True,\n",
      "              loss='hinge', n_iter=50, n_jobs=1, random_state=None,\n",
      "              shuffle=True, verbose=0, warm_start=False)\n",
      "train time: 2.542s\n",
      "test time:  0.004s\n",
      "accuracy:   0.776\n",
      "dimensionality: 10552\n",
      "density: 0.999052\n",
      "\n",
      "confusion matrix:\n",
      "[[29345  6671]\n",
      " [ 8252 22216]]\n",
      "\n",
      "================================================================================\n",
      "Random forest\n",
      "________________________________________________________________________________\n",
      "Training: \n",
      "RandomForestClassifier(bootstrap=True, class_weight=None, criterion='gini',\n",
      "            max_depth=None, max_features='auto', max_leaf_nodes=None,\n",
      "            min_samples_leaf=1, min_samples_split=2,\n",
      "            min_weight_fraction_leaf=0.0, n_estimators=100, n_jobs=1,\n",
      "            oob_score=False, random_state=None, verbose=0,\n",
      "            warm_start=False)\n",
      "train time: 731.875s\n",
      "test time:  5.004s\n",
      "accuracy:   0.828\n",
      "confusion matrix:\n",
      "[[30390  5626]\n",
      " [ 5782 24686]]\n",
      "\n"
     ]
    }
   ],
   "source": [
    "results = []\n",
    "for clf, name in (\n",
    "        (RidgeClassifier(tol=1e-2, solver=\"lsqr\"), \"Ridge Classifier\"),\n",
    "        (Perceptron(n_iter=50), \"Perceptron\"),\n",
    "        (PassiveAggressiveClassifier(n_iter=50), \"Passive-Aggressive\"),\n",
    "        #(KNeighborsClassifier(n_neighbors=10), \"kNN\"),\n",
    "        (RandomForestClassifier(n_estimators=100), \"Random forest\")):\n",
    "    print('=' * 80)\n",
    "    print(name)\n",
    "    results.append(benchmark(clf,X_train, train_labels,X_test,test_labels))"
   ]
  },
  {
   "cell_type": "code",
   "execution_count": 33,
   "metadata": {
    "collapsed": false
   },
   "outputs": [
    {
     "name": "stdout",
     "output_type": "stream",
     "text": [
      "================================================================================\n",
      "L2 penalty\n",
      "________________________________________________________________________________\n",
      "Training: \n",
      "LinearSVC(C=1.0, class_weight=None, dual=False, fit_intercept=True,\n",
      "     intercept_scaling=1, loss='l2', max_iter=1000, multi_class='ovr',\n",
      "     penalty='l2', random_state=None, tol=0.001, verbose=0)\n"
     ]
    },
    {
     "name": "stderr",
     "output_type": "stream",
     "text": [
      "C:\\Users\\gilopez\\AppData\\Local\\Continuum\\Anaconda3\\envs\\py_3.4\\lib\\site-packages\\sklearn\\svm\\classes.py:197: DeprecationWarning: loss='l2' has been deprecated in favor of loss='squared_hinge' as of 0.16. Backward compatibility for the loss='l2' will be removed in 1.0\n",
      "  DeprecationWarning)\n"
     ]
    },
    {
     "name": "stdout",
     "output_type": "stream",
     "text": [
      "train time: 58.290s\n",
      "test time:  0.003s\n",
      "accuracy:   0.821\n",
      "dimensionality: 10552\n",
      "density: 1.000000\n",
      "\n",
      "confusion matrix:\n",
      "[[30699  5317]\n",
      " [ 6612 23856]]\n",
      "\n",
      "________________________________________________________________________________\n",
      "Training: \n",
      "SGDClassifier(alpha=0.0001, average=False, class_weight=None, epsilon=0.1,\n",
      "       eta0=0.0, fit_intercept=True, l1_ratio=0.15,\n",
      "       learning_rate='optimal', loss='hinge', n_iter=50, n_jobs=1,\n",
      "       penalty='l2', power_t=0.5, random_state=None, shuffle=True,\n",
      "       verbose=0, warm_start=False)\n",
      "train time: 1.327s\n",
      "test time:  0.003s\n",
      "accuracy:   0.829\n",
      "dimensionality: 10552\n",
      "density: 0.944845\n",
      "\n",
      "confusion matrix:\n",
      "[[30573  5443]\n",
      " [ 5919 24549]]\n",
      "\n",
      "================================================================================\n",
      "L1 penalty\n",
      "________________________________________________________________________________\n",
      "Training: \n",
      "LinearSVC(C=1.0, class_weight=None, dual=False, fit_intercept=True,\n",
      "     intercept_scaling=1, loss='l2', max_iter=1000, multi_class='ovr',\n",
      "     penalty='l1', random_state=None, tol=0.001, verbose=0)\n"
     ]
    },
    {
     "name": "stderr",
     "output_type": "stream",
     "text": [
      "C:\\Users\\gilopez\\AppData\\Local\\Continuum\\Anaconda3\\envs\\py_3.4\\lib\\site-packages\\sklearn\\svm\\classes.py:197: DeprecationWarning: loss='l2' has been deprecated in favor of loss='squared_hinge' as of 0.16. Backward compatibility for the loss='l2' will be removed in 1.0\n",
      "  DeprecationWarning)\n"
     ]
    },
    {
     "name": "stdout",
     "output_type": "stream",
     "text": [
      "train time: 0.358s\n",
      "test time:  0.003s\n",
      "accuracy:   0.822\n",
      "dimensionality: 10552\n",
      "density: 0.786676\n",
      "\n",
      "confusion matrix:\n",
      "[[30699  5317]\n",
      " [ 6542 23926]]\n",
      "\n",
      "________________________________________________________________________________\n",
      "Training: \n",
      "SGDClassifier(alpha=0.0001, average=False, class_weight=None, epsilon=0.1,\n",
      "       eta0=0.0, fit_intercept=True, l1_ratio=0.15,\n",
      "       learning_rate='optimal', loss='hinge', n_iter=50, n_jobs=1,\n",
      "       penalty='l1', power_t=0.5, random_state=None, shuffle=True,\n",
      "       verbose=0, warm_start=False)\n",
      "train time: 1.670s\n",
      "test time:  0.003s\n",
      "accuracy:   0.824\n",
      "dimensionality: 10552\n",
      "density: 0.038760\n",
      "\n",
      "confusion matrix:\n",
      "[[30539  5477]\n",
      " [ 6206 24262]]\n",
      "\n"
     ]
    }
   ],
   "source": [
    "for penalty in [\"l2\", \"l1\"]:\n",
    "    print('=' * 80)\n",
    "    print(\"%s penalty\" % penalty.upper())\n",
    "    # Train Liblinear model\n",
    "    results.append(benchmark(LinearSVC(loss='l2', penalty=penalty,\n",
    "                                            dual=False, tol=1e-3),X_train, train_labels,X_test,test_labels))\n",
    "\n",
    "    # Train SGD model\n",
    "    results.append(benchmark(SGDClassifier(alpha=.0001, n_iter=50,\n",
    "                                           penalty=penalty),X_train, train_labels,X_test,test_labels))"
   ]
  },
  {
   "cell_type": "code",
   "execution_count": 34,
   "metadata": {
    "collapsed": false
   },
   "outputs": [
    {
     "name": "stdout",
     "output_type": "stream",
     "text": [
      "================================================================================\n",
      "Elastic-Net penalty\n",
      "________________________________________________________________________________\n",
      "Training: \n",
      "SGDClassifier(alpha=0.0001, average=False, class_weight=None, epsilon=0.1,\n",
      "       eta0=0.0, fit_intercept=True, l1_ratio=0.15,\n",
      "       learning_rate='optimal', loss='hinge', n_iter=50, n_jobs=1,\n",
      "       penalty='elasticnet', power_t=0.5, random_state=None, shuffle=True,\n",
      "       verbose=0, warm_start=False)\n",
      "train time: 1.693s\n",
      "test time:  0.003s\n",
      "accuracy:   0.828\n",
      "dimensionality: 10552\n",
      "density: 0.175227\n",
      "\n",
      "confusion matrix:\n",
      "[[30348  5668]\n",
      " [ 5744 24724]]\n",
      "\n",
      "================================================================================\n",
      "NearestCentroid (aka Rocchio classifier)\n",
      "________________________________________________________________________________\n",
      "Training: \n",
      "NearestCentroid(metric='euclidean', shrink_threshold=None)\n",
      "train time: 0.045s\n",
      "test time:  0.007s\n",
      "accuracy:   0.758\n",
      "confusion matrix:\n",
      "[[30780  5236]\n",
      " [10847 19621]]\n",
      "\n",
      "================================================================================\n",
      "Naive Bayes\n",
      "________________________________________________________________________________\n",
      "Training: \n",
      "MultinomialNB(alpha=0.01, class_prior=None, fit_prior=True)\n",
      "train time: 0.057s\n",
      "test time:  0.004s\n",
      "accuracy:   0.796\n",
      "dimensionality: 10552\n",
      "density: 1.000000\n",
      "\n",
      "confusion matrix:\n",
      "[[26899  9117]\n",
      " [ 4465 26003]]\n",
      "\n",
      "________________________________________________________________________________\n",
      "Training: \n",
      "BernoulliNB(alpha=0.01, binarize=0.0, class_prior=None, fit_prior=True)\n",
      "train time: 0.066s\n",
      "test time:  0.008s\n",
      "accuracy:   0.812\n",
      "dimensionality: 10552\n",
      "density: 1.000000\n",
      "\n",
      "confusion matrix:\n",
      "[[30017  5999]\n",
      " [ 6533 23935]]\n",
      "\n"
     ]
    }
   ],
   "source": [
    "# Train SGD with Elastic Net penalty\n",
    "print('=' * 80)\n",
    "print(\"Elastic-Net penalty\")\n",
    "results.append(benchmark(SGDClassifier(alpha=.0001, n_iter=50,\n",
    "                                       penalty=\"elasticnet\"),X_train, train_labels,X_test,test_labels))\n",
    "\n",
    "# Train NearestCentroid without threshold\n",
    "print('=' * 80)\n",
    "print(\"NearestCentroid (aka Rocchio classifier)\")\n",
    "results.append(benchmark(NearestCentroid(),X_train, train_labels,X_test,test_labels))\n",
    "\n",
    "# Train sparse Naive Bayes classifiers\n",
    "print('=' * 80)\n",
    "print(\"Naive Bayes\")\n",
    "results.append(benchmark(MultinomialNB(alpha=.01),X_train, train_labels,X_test,test_labels))\n",
    "results.append(benchmark(BernoulliNB(alpha=.01),X_train, train_labels,X_test,test_labels))\n"
   ]
  },
  {
   "cell_type": "code",
   "execution_count": 35,
   "metadata": {
    "collapsed": false
   },
   "outputs": [
    {
     "data": {
      "image/png": "[encoded data removed]",
      "text/plain": [
       "<matplotlib.figure.Figure at 0x55cfe940>"
      ]
     },
     "metadata": {},
     "output_type": "display_data"
    }
   ],
   "source": [
    "# make some plots\n",
    "%matplotlib inline\n",
    "indices = np.arange(len(results))\n",
    "\n",
    "results = [[x[i] for x in results] for i in range(4)]\n",
    "\n",
    "clf_names, score, training_time, test_time = results\n",
    "training_time = np.array(training_time) / np.max(training_time)\n",
    "test_time = np.array(test_time) / np.max(test_time)\n",
    "\n",
    "plt.figure(figsize=(12, 8))\n",
    "plt.title(\"Score\")\n",
    "plt.barh(indices, score, .2, label=\"score\", color='r')\n",
    "plt.barh(indices + .3, training_time, .2, label=\"training time\", color='g')\n",
    "plt.barh(indices + .6, test_time, .2, label=\"test time\", color='b')\n",
    "plt.yticks(())\n",
    "plt.legend(loc='best')\n",
    "plt.subplots_adjust(left=.25)\n",
    "plt.subplots_adjust(top=.95)\n",
    "plt.subplots_adjust(bottom=.05)\n",
    "\n",
    "for i, c in zip(indices, clf_names):\n",
    "    plt.text(-.3, i, c)\n",
    "\n",
    "plt.show()"
   ]
  },
  {
   "cell_type": "code",
   "execution_count": 36,
   "metadata": {
    "collapsed": false
   },
   "outputs": [
    {
     "name": "stdout",
     "output_type": "stream",
     "text": [
      "================================================================================\n",
      "Ridge Classifier\n",
      "________________________________________________________________________________\n",
      "Training: \n",
      "RidgeClassifier(alpha=1.0, class_weight=None, copy_X=True, fit_intercept=True,\n",
      "        max_iter=None, normalize=False, random_state=None, solver='lsqr',\n",
      "        tol=0.01)\n"
     ]
    },
    {
     "name": "stderr",
     "output_type": "stream",
     "text": [
      "C:\\Users\\gilopez\\AppData\\Local\\Continuum\\Anaconda3\\envs\\py_3.4\\lib\\site-packages\\sklearn\\linear_model\\ridge.py:299: UserWarning: In Ridge, only 'sag' solver can currently fit the intercept when X is sparse. Solver has been automatically changed into 'sag'.\n",
      "  warnings.warn(\"In Ridge, only 'sag' solver can currently fit the \"\n"
     ]
    },
    {
     "name": "stdout",
     "output_type": "stream",
     "text": [
      "train time: 2.256s\n",
      "test time:  0.004s\n",
      "accuracy:   0.843\n",
      "dimensionality: 10183\n",
      "density: 1.000000\n",
      "\n",
      "confusion matrix:\n",
      "[[30866  5150]\n",
      " [ 5320 25148]]\n",
      "\n",
      "================================================================================\n",
      "Perceptron\n",
      "________________________________________________________________________________\n",
      "Training: \n",
      "Perceptron(alpha=0.0001, class_weight=None, eta0=1.0, fit_intercept=True,\n",
      "      n_iter=50, n_jobs=1, penalty=None, random_state=0, shuffle=True,\n",
      "      verbose=0, warm_start=False)\n",
      "train time: 1.395s\n",
      "test time:  0.004s\n",
      "accuracy:   0.715\n",
      "dimensionality: 10183\n",
      "density: 0.960621\n",
      "\n",
      "confusion matrix:\n",
      "[[32150  3866]\n",
      " [15083 15385]]\n",
      "\n",
      "================================================================================\n",
      "Passive-Aggressive\n",
      "________________________________________________________________________________\n",
      "Training: \n",
      "PassiveAggressiveClassifier(C=1.0, class_weight=None, fit_intercept=True,\n",
      "              loss='hinge', n_iter=50, n_jobs=1, random_state=None,\n",
      "              shuffle=True, verbose=0, warm_start=False)\n",
      "train time: 1.608s\n",
      "test time:  0.004s\n",
      "accuracy:   0.768\n",
      "dimensionality: 10183\n",
      "density: 0.999313\n",
      "\n",
      "confusion matrix:\n",
      "[[31043  4973]\n",
      " [10462 20006]]\n",
      "\n",
      "================================================================================\n",
      "Random forest\n",
      "________________________________________________________________________________\n",
      "Training: \n",
      "RandomForestClassifier(bootstrap=True, class_weight=None, criterion='gini',\n",
      "            max_depth=None, max_features='auto', max_leaf_nodes=None,\n",
      "            min_samples_leaf=1, min_samples_split=2,\n",
      "            min_weight_fraction_leaf=0.0, n_estimators=100, n_jobs=1,\n",
      "            oob_score=False, random_state=None, verbose=0,\n",
      "            warm_start=False)\n",
      "train time: 426.551s\n",
      "test time:  2.948s\n",
      "accuracy:   0.855\n",
      "confusion matrix:\n",
      "[[30050  5966]\n",
      " [ 3699 26769]]\n",
      "\n"
     ]
    }
   ],
   "source": [
    "results_pos = []\n",
    "for clf, name in (\n",
    "        (RidgeClassifier(tol=1e-2, solver=\"lsqr\"), \"Ridge Classifier\"),\n",
    "        (Perceptron(n_iter=50), \"Perceptron\"),\n",
    "        (PassiveAggressiveClassifier(n_iter=50), \"Passive-Aggressive\"),\n",
    "        #(KNeighborsClassifier(n_neighbors=10), \"kNN\"),\n",
    "        (RandomForestClassifier(n_estimators=100), \"Random forest\")):\n",
    "    print('=' * 80)\n",
    "    print(name)\n",
    "    results_pos.append(benchmark(clf,X_train_pos, train_labels,X_test_pos,test_labels))"
   ]
  },
  {
   "cell_type": "code",
   "execution_count": 37,
   "metadata": {
    "collapsed": false
   },
   "outputs": [
    {
     "name": "stdout",
     "output_type": "stream",
     "text": [
      "================================================================================\n",
      "L2 penalty\n",
      "________________________________________________________________________________\n",
      "Training: \n",
      "LinearSVC(C=1.0, class_weight=None, dual=False, fit_intercept=True,\n",
      "     intercept_scaling=1, loss='l2', max_iter=1000, multi_class='ovr',\n",
      "     penalty='l2', random_state=None, tol=0.001, verbose=0)\n"
     ]
    },
    {
     "name": "stderr",
     "output_type": "stream",
     "text": [
      "C:\\Users\\gilopez\\AppData\\Local\\Continuum\\Anaconda3\\envs\\py_3.4\\lib\\site-packages\\sklearn\\svm\\classes.py:197: DeprecationWarning: loss='l2' has been deprecated in favor of loss='squared_hinge' as of 0.16. Backward compatibility for the loss='l2' will be removed in 1.0\n",
      "  DeprecationWarning)\n"
     ]
    },
    {
     "name": "stdout",
     "output_type": "stream",
     "text": [
      "train time: 51.442s\n",
      "test time:  0.004s\n",
      "accuracy:   0.838\n",
      "dimensionality: 10183\n",
      "density: 1.000000\n",
      "\n",
      "confusion matrix:\n",
      "[[30818  5198]\n",
      " [ 5550 24918]]\n",
      "\n",
      "________________________________________________________________________________\n",
      "Training: \n",
      "SGDClassifier(alpha=0.0001, average=False, class_weight=None, epsilon=0.1,\n",
      "       eta0=0.0, fit_intercept=True, l1_ratio=0.15,\n",
      "       learning_rate='optimal', loss='hinge', n_iter=50, n_jobs=1,\n",
      "       penalty='l2', power_t=0.5, random_state=None, shuffle=True,\n",
      "       verbose=0, warm_start=False)\n",
      "train time: 1.677s\n",
      "test time:  0.004s\n",
      "accuracy:   0.849\n",
      "dimensionality: 10183\n",
      "density: 0.943730\n",
      "\n",
      "confusion matrix:\n",
      "[[30489  5527]\n",
      " [ 4487 25981]]\n",
      "\n",
      "================================================================================\n",
      "L1 penalty\n",
      "________________________________________________________________________________\n",
      "Training: \n",
      "LinearSVC(C=1.0, class_weight=None, dual=False, fit_intercept=True,\n",
      "     intercept_scaling=1, loss='l2', max_iter=1000, multi_class='ovr',\n",
      "     penalty='l1', random_state=None, tol=0.001, verbose=0)\n"
     ]
    },
    {
     "name": "stderr",
     "output_type": "stream",
     "text": [
      "C:\\Users\\gilopez\\AppData\\Local\\Continuum\\Anaconda3\\envs\\py_3.4\\lib\\site-packages\\sklearn\\svm\\classes.py:197: DeprecationWarning: loss='l2' has been deprecated in favor of loss='squared_hinge' as of 0.16. Backward compatibility for the loss='l2' will be removed in 1.0\n",
      "  DeprecationWarning)\n"
     ]
    },
    {
     "name": "stdout",
     "output_type": "stream",
     "text": [
      "train time: 2.544s\n",
      "test time:  0.004s\n",
      "accuracy:   0.839\n",
      "dimensionality: 10183\n",
      "density: 0.749681\n",
      "\n",
      "confusion matrix:\n",
      "[[30839  5177]\n",
      " [ 5543 24925]]\n",
      "\n",
      "________________________________________________________________________________\n",
      "Training: \n",
      "SGDClassifier(alpha=0.0001, average=False, class_weight=None, epsilon=0.1,\n",
      "       eta0=0.0, fit_intercept=True, l1_ratio=0.15,\n",
      "       learning_rate='optimal', loss='hinge', n_iter=50, n_jobs=1,\n",
      "       penalty='l1', power_t=0.5, random_state=None, shuffle=True,\n",
      "       verbose=0, warm_start=False)\n",
      "train time: 2.125s\n",
      "test time:  0.004s\n",
      "accuracy:   0.846\n",
      "dimensionality: 10183\n",
      "density: 0.024944\n",
      "\n",
      "confusion matrix:\n",
      "[[31106  4910]\n",
      " [ 5347 25121]]\n",
      "\n"
     ]
    }
   ],
   "source": [
    "for penalty in [\"l2\", \"l1\"]:\n",
    "    print('=' * 80)\n",
    "    print(\"%s penalty\" % penalty.upper())\n",
    "    # Train Liblinear model\n",
    "    results_pos.append(benchmark(LinearSVC(loss='l2', penalty=penalty,\n",
    "                                            dual=False, tol=1e-3),X_train_pos, train_labels,X_test_pos,test_labels))\n",
    "\n",
    "    # Train SGD model\n",
    "    results_pos.append(benchmark(SGDClassifier(alpha=.0001, n_iter=50,\n",
    "                                           penalty=penalty),X_train_pos, train_labels,X_test_pos,test_labels))"
   ]
  },
  {
   "cell_type": "code",
   "execution_count": 38,
   "metadata": {
    "collapsed": false
   },
   "outputs": [
    {
     "name": "stdout",
     "output_type": "stream",
     "text": [
      "================================================================================\n",
      "Elastic-Net penalty\n",
      "________________________________________________________________________________\n",
      "Training: \n",
      "SGDClassifier(alpha=0.0001, average=False, class_weight=None, epsilon=0.1,\n",
      "       eta0=0.0, fit_intercept=True, l1_ratio=0.15,\n",
      "       learning_rate='optimal', loss='hinge', n_iter=50, n_jobs=1,\n",
      "       penalty='elasticnet', power_t=0.5, random_state=None, shuffle=True,\n",
      "       verbose=0, warm_start=False)\n",
      "train time: 2.157s\n",
      "test time:  0.004s\n",
      "accuracy:   0.849\n",
      "dimensionality: 10183\n",
      "density: 0.126878\n",
      "\n",
      "confusion matrix:\n",
      "[[30659  5357]\n",
      " [ 4688 25780]]\n",
      "\n",
      "================================================================================\n",
      "NearestCentroid (aka Rocchio classifier)\n",
      "________________________________________________________________________________\n",
      "Training: \n",
      "NearestCentroid(metric='euclidean', shrink_threshold=None)\n",
      "train time: 0.057s\n",
      "test time:  0.013s\n",
      "accuracy:   0.785\n",
      "confusion matrix:\n",
      "[[31172  4844]\n",
      " [ 9450 21018]]\n",
      "\n",
      "================================================================================\n",
      "Naive Bayes\n",
      "________________________________________________________________________________\n",
      "Training: \n",
      "MultinomialNB(alpha=0.01, class_prior=None, fit_prior=True)\n",
      "train time: 0.070s\n",
      "test time:  0.008s\n",
      "accuracy:   0.785\n",
      "dimensionality: 10183\n",
      "density: 1.000000\n",
      "\n",
      "confusion matrix:\n",
      "[[25741 10275]\n",
      " [ 3999 26469]]\n",
      "\n",
      "________________________________________________________________________________\n",
      "Training: \n",
      "BernoulliNB(alpha=0.01, binarize=0.0, class_prior=None, fit_prior=True)\n",
      "train time: 0.075s\n",
      "test time:  0.012s\n",
      "accuracy:   0.819\n",
      "dimensionality: 10183\n",
      "density: 1.000000\n",
      "\n",
      "confusion matrix:\n",
      "[[29431  6585]\n",
      " [ 5472 24996]]\n",
      "\n"
     ]
    }
   ],
   "source": [
    "# Train SGD with Elastic Net penalty\n",
    "print('=' * 80)\n",
    "print(\"Elastic-Net penalty\")\n",
    "results_pos.append(benchmark(SGDClassifier(alpha=.0001, n_iter=50,\n",
    "                                       penalty=\"elasticnet\"),X_train_pos, train_labels,X_test_pos,test_labels))\n",
    "\n",
    "# Train NearestCentroid without threshold\n",
    "print('=' * 80)\n",
    "print(\"NearestCentroid (aka Rocchio classifier)\")\n",
    "results_pos.append(benchmark(NearestCentroid(),X_train_pos, train_labels,X_test_pos,test_labels))\n",
    "\n",
    "# Train sparse Naive Bayes classifiers\n",
    "print('=' * 80)\n",
    "print(\"Naive Bayes\")\n",
    "results_pos.append(benchmark(MultinomialNB(alpha=.01),X_train_pos, train_labels,X_test_pos,test_labels))\n",
    "results_pos.append(benchmark(BernoulliNB(alpha=.01),X_train_pos, train_labels,X_test_pos,test_labels))"
   ]
  },
  {
   "cell_type": "code",
   "execution_count": 39,
   "metadata": {
    "collapsed": false
   },
   "outputs": [
    {
     "data": {
      "image/png": "[encoded data removed]",
      "text/plain": [
       "<matplotlib.figure.Figure at 0x5da62be0>"
      ]
     },
     "metadata": {},
     "output_type": "display_data"
    }
   ],
   "source": [
    "# make some plots\n",
    "%matplotlib inline\n",
    "indices = np.arange(len(results_pos))\n",
    "\n",
    "results_pos = [[x[i] for x in results_pos] for i in range(4)]\n",
    "\n",
    "clf_names, score, training_time, test_time = results_pos\n",
    "training_time = np.array(training_time) / np.max(training_time)\n",
    "test_time = np.array(test_time) / np.max(test_time)\n",
    "\n",
    "plt.figure(figsize=(12, 8))\n",
    "plt.title(\"Score with POS labels\")\n",
    "plt.barh(indices, score, .2, label=\"score\", color='r')\n",
    "plt.barh(indices + .3, training_time, .2, label=\"training time\", color='g')\n",
    "plt.barh(indices + .6, test_time, .2, label=\"test time\", color='b')\n",
    "plt.yticks(())\n",
    "plt.legend(loc='best')\n",
    "plt.subplots_adjust(left=.25)\n",
    "plt.subplots_adjust(top=.95)\n",
    "plt.subplots_adjust(bottom=.05)\n",
    "\n",
    "for i, c in zip(indices, clf_names):\n",
    "    plt.text(-.3, i, c)\n",
    "\n",
    "plt.show()"
   ]
  },
  {
   "cell_type": "code",
   "execution_count": null,
   "metadata": {
    "collapsed": true
   },
   "outputs": [],
   "source": []
  },
  {
   "cell_type": "code",
   "execution_count": null,
   "metadata": {
    "collapsed": true
   },
   "outputs": [],
   "source": []
  }
 ],
 "metadata": {
  "kernelspec": {
   "display_name": "Python 3",
   "language": "python",
   "name": "python3"
  },
  "language_info": {
   "codemirror_mode": {
    "name": "ipython",
    "version": 3
   },
   "file_extension": ".py",
   "mimetype": "text/x-python",
   "name": "python",
   "nbconvert_exporter": "python",
   "pygments_lexer": "ipython3",
   "version": "3.4.4"
  }
 },
 "nbformat": 4,
 "nbformat_minor": 0
}
